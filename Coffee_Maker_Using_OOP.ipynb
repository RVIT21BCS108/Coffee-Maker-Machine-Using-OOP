{
  "nbformat": 4,
  "nbformat_minor": 0,
  "metadata": {
    "colab": {
      "provenance": [],
      "authorship_tag": "ABX9TyMkOaPMQBGw1XWT8zh07LD2",
      "include_colab_link": true
    },
    "kernelspec": {
      "name": "python3",
      "display_name": "Python 3"
    },
    "language_info": {
      "name": "python"
    }
  },
  "cells": [
    {
      "cell_type": "markdown",
      "metadata": {
        "id": "view-in-github",
        "colab_type": "text"
      },
      "source": [
        "<a href=\"https://colab.research.google.com/github/RVIT21BCS108/Coffee-Maker-Machine-Using-OOP/blob/main/Coffee_Maker_Using_OOP.ipynb\" target=\"_parent\"><img src=\"https://colab.research.google.com/assets/colab-badge.svg\" alt=\"Open In Colab\"/></a>"
      ]
    },
    {
      "cell_type": "code",
      "source": [
        "class MenuItem:\n",
        "    \"\"\"Models each Menu Item.\"\"\"\n",
        "    def __init__(self, name, water, milk, coffee, cost):\n",
        "        self.name = name\n",
        "        self.cost = cost\n",
        "        self.ingredients = {\n",
        "            \"water\": water,\n",
        "            \"milk\": milk,\n",
        "            \"coffee\": coffee\n",
        "        }\n",
        "\n",
        "class Menu:\n",
        "    \"\"\"Models the Menu with drinks.\"\"\"\n",
        "    def __init__(self):\n",
        "        self.menu = [\n",
        "            MenuItem(name=\"latte\", water=200, milk=150, coffee=24, cost=2.5),\n",
        "            MenuItem(name=\"espresso\", water=50, milk=0, coffee=18, cost=1.5),\n",
        "            MenuItem(name=\"cappuccino\", water=250, milk=50, coffee=24, cost=3),\n",
        "        ]\n",
        "\n",
        "    def get_items(self):\n",
        "        \"\"\"Returns all the names of the available menu items\"\"\"\n",
        "        options = \"\"\n",
        "        for item in self.menu:\n",
        "            options += f\"{item.name}/\"\n",
        "        return options\n",
        "\n",
        "    def find_drink(self, order_name):\n",
        "        \"\"\"Searches the menu for a particular drink by name. Returns that item if it exists, otherwise returns None\"\"\"\n",
        "        for item in self.menu:\n",
        "            if item.name == order_name:\n",
        "                return item\n",
        "        print(\"Sorry that item is not available.\")\n"
      ],
      "metadata": {
        "id": "C5mLMOZpX8h2"
      },
      "execution_count": 1,
      "outputs": []
    },
    {
      "cell_type": "code",
      "source": [
        "class CoffeeMaker:\n",
        "    \"\"\"Models the machine that makes the coffee\"\"\"\n",
        "    def __init__(self):\n",
        "        self.resources = {\n",
        "            \"water\": 300,\n",
        "            \"milk\": 200,\n",
        "            \"coffee\": 100,\n",
        "        }\n",
        "\n",
        "    def report(self):\n",
        "        \"\"\"Prints a report of all resources.\"\"\"\n",
        "        print(f\"Water: {self.resources['water']}ml\")\n",
        "        print(f\"Milk: {self.resources['milk']}ml\")\n",
        "        print(f\"Coffee: {self.resources['coffee']}g\")\n",
        "\n",
        "    def is_resource_sufficient(self, drink):\n",
        "        \"\"\"Returns True when order can be made, False if ingredients are insufficient.\"\"\"\n",
        "        can_make = True\n",
        "        for item in drink.ingredients:\n",
        "            if drink.ingredients[item] > self.resources[item]:\n",
        "                print(f\"Sorry there is not enough {item}.\")\n",
        "                can_make = False\n",
        "        return can_make\n",
        "\n",
        "    def make_coffee(self, order):\n",
        "        \"\"\"Deducts the required ingredients from the resources.\"\"\"\n",
        "        for item in order.ingredients:\n",
        "            self.resources[item] -= order.ingredients[item]\n",
        "        print(f\"Here is your {order.name} ☕️. Enjoy!\")\n"
      ],
      "metadata": {
        "id": "fMh2yUTEYCEW"
      },
      "execution_count": 2,
      "outputs": []
    },
    {
      "cell_type": "code",
      "source": [
        "class MoneyMachine:\n",
        "\n",
        "    CURRENCY = \"$\"\n",
        "\n",
        "    COIN_VALUES = {\n",
        "        \"quarters\": 0.25,\n",
        "        \"dimes\": 0.10,\n",
        "        \"nickles\": 0.05,\n",
        "        \"pennies\": 0.01\n",
        "    }\n",
        "\n",
        "    def __init__(self):\n",
        "        self.profit = 0\n",
        "        self.money_received = 0\n",
        "\n",
        "    def report(self):\n",
        "        \"\"\"Prints the current profit\"\"\"\n",
        "        print(f\"Money: {self.CURRENCY}{self.profit}\")\n",
        "\n",
        "    def process_coins(self):\n",
        "        \"\"\"Returns the total calculated from coins inserted.\"\"\"\n",
        "        print(\"Please insert coins.\")\n",
        "        for coin in self.COIN_VALUES:\n",
        "            self.money_received += int(input(f\"How many {coin}?: \")) * self.COIN_VALUES[coin]\n",
        "        return self.money_received\n",
        "\n",
        "    def make_payment(self, cost):\n",
        "        \"\"\"Returns True when payment is accepted, or False if insufficient.\"\"\"\n",
        "        self.process_coins()\n",
        "        if self.money_received >= cost:\n",
        "            change = round(self.money_received - cost, 2)\n",
        "            print(f\"Here is {self.CURRENCY}{change} in change.\")\n",
        "            self.profit += cost\n",
        "            self.money_received = 0\n",
        "            return True\n",
        "        else:\n",
        "            print(\"Sorry that's not enough money. Money refunded.\")\n",
        "            self.money_received = 0\n",
        "            return False\n"
      ],
      "metadata": {
        "id": "-gECFxnVYFpk"
      },
      "execution_count": 3,
      "outputs": []
    },
    {
      "cell_type": "code",
      "source": [
        "# Example usage\n",
        "menu = Menu()\n",
        "coffee_maker = CoffeeMaker()\n",
        "money_machine = MoneyMachine()\n",
        "\n",
        "while True:\n",
        "    order = input(\"What would you like? (espresso/latte/cappuccino): \").strip().lower()\n",
        "\n",
        "    if order == \"off\":\n",
        "        break\n",
        "    elif order == \"report\":\n",
        "        coffee_maker.report()\n",
        "        money_machine.report()\n",
        "    else:\n",
        "        drink = menu.find_drink(order)\n",
        "        if drink:\n",
        "            if coffee_maker.is_resource_sufficient(drink):\n",
        "                if money_machine.make_payment(drink.cost):\n",
        "                    coffee_maker.make_coffee(drink)\n"
      ],
      "metadata": {
        "id": "pCwO6Jr7YNrm"
      },
      "execution_count": null,
      "outputs": []
    }
  ]
}